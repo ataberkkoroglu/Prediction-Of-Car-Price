{
  "nbformat": 4,
  "nbformat_minor": 0,
  "metadata": {
    "colab": {
      "provenance": [],
      "mount_file_id": "1nbTq3Ac0_JlADsMnDIC8X0b7rjLaujSw",
      "authorship_tag": "ABX9TyMQGEdDNEUouOyIeNPqb7eU",
      "include_colab_link": true
    },
    "kernelspec": {
      "name": "python3",
      "display_name": "Python 3"
    },
    "language_info": {
      "name": "python"
    }
  },
  "cells": [
    {
      "cell_type": "markdown",
      "metadata": {
        "id": "view-in-github",
        "colab_type": "text"
      },
      "source": [
        "<a href=\"https://colab.research.google.com/github/ataberkkoroglu/Prediction-Of-Car-Price/blob/master/Prediction_Of_Car_Price.ipynb\" target=\"_parent\"><img src=\"https://colab.research.google.com/assets/colab-badge.svg\" alt=\"Open In Colab\"/></a>"
      ]
    },
    {
      "cell_type": "code",
      "execution_count": 1,
      "metadata": {
        "id": "IqLS2L1ywBsC"
      },
      "outputs": [],
      "source": [
        "import numpy as np,seaborn as sns,tensorflow as tf,pandas as pd\n",
        "from sklearn.metrics import mean_squared_error,mean_absolute_error\n",
        "from sklearn.model_selection import train_test_split\n",
        "from keras.layers import Dense,Dropout\n",
        "from keras.models import Sequential\n",
        "from sklearn.preprocessing import MinMaxScaler,LabelEncoder\n",
        "from keras.callbacks import EarlyStopping\n",
        "from matplotlib import pyplot as plt"
      ]
    },
    {
      "cell_type": "code",
      "source": [
        "df=pd.read_excel(\"/content/drive/MyDrive/merc.xlsx\")\n",
        "print(df.info())"
      ],
      "metadata": {
        "colab": {
          "base_uri": "https://localhost:8080/"
        },
        "id": "zMDLNk_OwDXw",
        "outputId": "19926ed8-ef49-447f-ff07-2f9123827788"
      },
      "execution_count": 2,
      "outputs": [
        {
          "output_type": "stream",
          "name": "stdout",
          "text": [
            "<class 'pandas.core.frame.DataFrame'>\n",
            "RangeIndex: 13119 entries, 0 to 13118\n",
            "Data columns (total 7 columns):\n",
            " #   Column        Non-Null Count  Dtype  \n",
            "---  ------        --------------  -----  \n",
            " 0   year          13119 non-null  int64  \n",
            " 1   price         13119 non-null  int64  \n",
            " 2   transmission  13119 non-null  object \n",
            " 3   mileage       13119 non-null  int64  \n",
            " 4   tax           13119 non-null  int64  \n",
            " 5   mpg           13119 non-null  float64\n",
            " 6   engineSize    13119 non-null  float64\n",
            "dtypes: float64(2), int64(4), object(1)\n",
            "memory usage: 717.6+ KB\n",
            "None\n"
          ]
        }
      ]
    },
    {
      "cell_type": "code",
      "source": [
        "df.select_dtypes(\"object\")\n"
      ],
      "metadata": {
        "colab": {
          "base_uri": "https://localhost:8080/",
          "height": 423
        },
        "id": "469Acq1JwpsP",
        "outputId": "8d321d1c-d631-4dce-b4bc-f749b9d95e09"
      },
      "execution_count": 3,
      "outputs": [
        {
          "output_type": "execute_result",
          "data": {
            "text/plain": [
              "      transmission\n",
              "0        Automatic\n",
              "1        Automatic\n",
              "2        Automatic\n",
              "3        Automatic\n",
              "4        Automatic\n",
              "...            ...\n",
              "13114    Automatic\n",
              "13115    Automatic\n",
              "13116    Automatic\n",
              "13117    Automatic\n",
              "13118    Automatic\n",
              "\n",
              "[13119 rows x 1 columns]"
            ],
            "text/html": [
              "\n",
              "  <div id=\"df-1f05d6e9-9a87-45f2-a162-1284b23548f2\">\n",
              "    <div class=\"colab-df-container\">\n",
              "      <div>\n",
              "<style scoped>\n",
              "    .dataframe tbody tr th:only-of-type {\n",
              "        vertical-align: middle;\n",
              "    }\n",
              "\n",
              "    .dataframe tbody tr th {\n",
              "        vertical-align: top;\n",
              "    }\n",
              "\n",
              "    .dataframe thead th {\n",
              "        text-align: right;\n",
              "    }\n",
              "</style>\n",
              "<table border=\"1\" class=\"dataframe\">\n",
              "  <thead>\n",
              "    <tr style=\"text-align: right;\">\n",
              "      <th></th>\n",
              "      <th>transmission</th>\n",
              "    </tr>\n",
              "  </thead>\n",
              "  <tbody>\n",
              "    <tr>\n",
              "      <th>0</th>\n",
              "      <td>Automatic</td>\n",
              "    </tr>\n",
              "    <tr>\n",
              "      <th>1</th>\n",
              "      <td>Automatic</td>\n",
              "    </tr>\n",
              "    <tr>\n",
              "      <th>2</th>\n",
              "      <td>Automatic</td>\n",
              "    </tr>\n",
              "    <tr>\n",
              "      <th>3</th>\n",
              "      <td>Automatic</td>\n",
              "    </tr>\n",
              "    <tr>\n",
              "      <th>4</th>\n",
              "      <td>Automatic</td>\n",
              "    </tr>\n",
              "    <tr>\n",
              "      <th>...</th>\n",
              "      <td>...</td>\n",
              "    </tr>\n",
              "    <tr>\n",
              "      <th>13114</th>\n",
              "      <td>Automatic</td>\n",
              "    </tr>\n",
              "    <tr>\n",
              "      <th>13115</th>\n",
              "      <td>Automatic</td>\n",
              "    </tr>\n",
              "    <tr>\n",
              "      <th>13116</th>\n",
              "      <td>Automatic</td>\n",
              "    </tr>\n",
              "    <tr>\n",
              "      <th>13117</th>\n",
              "      <td>Automatic</td>\n",
              "    </tr>\n",
              "    <tr>\n",
              "      <th>13118</th>\n",
              "      <td>Automatic</td>\n",
              "    </tr>\n",
              "  </tbody>\n",
              "</table>\n",
              "<p>13119 rows × 1 columns</p>\n",
              "</div>\n",
              "      <button class=\"colab-df-convert\" onclick=\"convertToInteractive('df-1f05d6e9-9a87-45f2-a162-1284b23548f2')\"\n",
              "              title=\"Convert this dataframe to an interactive table.\"\n",
              "              style=\"display:none;\">\n",
              "        \n",
              "  <svg xmlns=\"http://www.w3.org/2000/svg\" height=\"24px\"viewBox=\"0 0 24 24\"\n",
              "       width=\"24px\">\n",
              "    <path d=\"M0 0h24v24H0V0z\" fill=\"none\"/>\n",
              "    <path d=\"M18.56 5.44l.94 2.06.94-2.06 2.06-.94-2.06-.94-.94-2.06-.94 2.06-2.06.94zm-11 1L8.5 8.5l.94-2.06 2.06-.94-2.06-.94L8.5 2.5l-.94 2.06-2.06.94zm10 10l.94 2.06.94-2.06 2.06-.94-2.06-.94-.94-2.06-.94 2.06-2.06.94z\"/><path d=\"M17.41 7.96l-1.37-1.37c-.4-.4-.92-.59-1.43-.59-.52 0-1.04.2-1.43.59L10.3 9.45l-7.72 7.72c-.78.78-.78 2.05 0 2.83L4 21.41c.39.39.9.59 1.41.59.51 0 1.02-.2 1.41-.59l7.78-7.78 2.81-2.81c.8-.78.8-2.07 0-2.86zM5.41 20L4 18.59l7.72-7.72 1.47 1.35L5.41 20z\"/>\n",
              "  </svg>\n",
              "      </button>\n",
              "      \n",
              "  <style>\n",
              "    .colab-df-container {\n",
              "      display:flex;\n",
              "      flex-wrap:wrap;\n",
              "      gap: 12px;\n",
              "    }\n",
              "\n",
              "    .colab-df-convert {\n",
              "      background-color: #E8F0FE;\n",
              "      border: none;\n",
              "      border-radius: 50%;\n",
              "      cursor: pointer;\n",
              "      display: none;\n",
              "      fill: #1967D2;\n",
              "      height: 32px;\n",
              "      padding: 0 0 0 0;\n",
              "      width: 32px;\n",
              "    }\n",
              "\n",
              "    .colab-df-convert:hover {\n",
              "      background-color: #E2EBFA;\n",
              "      box-shadow: 0px 1px 2px rgba(60, 64, 67, 0.3), 0px 1px 3px 1px rgba(60, 64, 67, 0.15);\n",
              "      fill: #174EA6;\n",
              "    }\n",
              "\n",
              "    [theme=dark] .colab-df-convert {\n",
              "      background-color: #3B4455;\n",
              "      fill: #D2E3FC;\n",
              "    }\n",
              "\n",
              "    [theme=dark] .colab-df-convert:hover {\n",
              "      background-color: #434B5C;\n",
              "      box-shadow: 0px 1px 3px 1px rgba(0, 0, 0, 0.15);\n",
              "      filter: drop-shadow(0px 1px 2px rgba(0, 0, 0, 0.3));\n",
              "      fill: #FFFFFF;\n",
              "    }\n",
              "  </style>\n",
              "\n",
              "      <script>\n",
              "        const buttonEl =\n",
              "          document.querySelector('#df-1f05d6e9-9a87-45f2-a162-1284b23548f2 button.colab-df-convert');\n",
              "        buttonEl.style.display =\n",
              "          google.colab.kernel.accessAllowed ? 'block' : 'none';\n",
              "\n",
              "        async function convertToInteractive(key) {\n",
              "          const element = document.querySelector('#df-1f05d6e9-9a87-45f2-a162-1284b23548f2');\n",
              "          const dataTable =\n",
              "            await google.colab.kernel.invokeFunction('convertToInteractive',\n",
              "                                                     [key], {});\n",
              "          if (!dataTable) return;\n",
              "\n",
              "          const docLinkHtml = 'Like what you see? Visit the ' +\n",
              "            '<a target=\"_blank\" href=https://colab.research.google.com/notebooks/data_table.ipynb>data table notebook</a>'\n",
              "            + ' to learn more about interactive tables.';\n",
              "          element.innerHTML = '';\n",
              "          dataTable['output_type'] = 'display_data';\n",
              "          await google.colab.output.renderOutput(dataTable, element);\n",
              "          const docLink = document.createElement('div');\n",
              "          docLink.innerHTML = docLinkHtml;\n",
              "          element.appendChild(docLink);\n",
              "        }\n",
              "      </script>\n",
              "    </div>\n",
              "  </div>\n",
              "  "
            ]
          },
          "metadata": {},
          "execution_count": 3
        }
      ]
    },
    {
      "cell_type": "code",
      "source": [
        "plt.figure(figsize=(20,20)) #sns.set(rc={\"figure.figsize\":(20,20)})"
      ],
      "metadata": {
        "colab": {
          "base_uri": "https://localhost:8080/",
          "height": 52
        },
        "id": "eNsEITD-w0Kn",
        "outputId": "9409ad47-8f45-499a-fd9a-bd231cbcd3b1"
      },
      "execution_count": 4,
      "outputs": [
        {
          "output_type": "execute_result",
          "data": {
            "text/plain": [
              "<Figure size 2000x2000 with 0 Axes>"
            ]
          },
          "metadata": {},
          "execution_count": 4
        },
        {
          "output_type": "display_data",
          "data": {
            "text/plain": [
              "<Figure size 2000x2000 with 0 Axes>"
            ]
          },
          "metadata": {}
        }
      ]
    },
    {
      "cell_type": "code",
      "source": [
        "plt.plot(df[\"year\"],df[\"price\"],linewidth=2,linestyle=\"--\")\n",
        "plt.title(\"Year-Price Graph\")\n",
        "plt.xlabel(\"Year\")\n",
        "plt.ylabel(\"Price\")\n",
        "plt.legend(\"Price\",loc=2)\n",
        "plt.show()"
      ],
      "metadata": {
        "colab": {
          "base_uri": "https://localhost:8080/",
          "height": 472
        },
        "id": "AY_r40MLyrUT",
        "outputId": "77a25543-50c2-4512-e3d4-e9bf0b0bad32"
      },
      "execution_count": 5,
      "outputs": [
        {
          "output_type": "display_data",
          "data": {
            "text/plain": [
              "<Figure size 640x480 with 1 Axes>"
            ],
            "image/png": "[encoded data removed]"
          },
          "metadata": {}
        }
      ]
    },
    {
      "cell_type": "code",
      "source": [
        "sns.scatterplot(x=df[\"year\"],y=df[\"price\"],color=\"b\")"
      ],
      "metadata": {
        "colab": {
          "base_uri": "https://localhost:8080/"
        },
        "id": "NQDGbqszzNyU",
        "outputId": "985d4c97-c487-4022-c49d-5b2da6d2ac2c"
      },
      "execution_count": null,
      "outputs": [
        {
          "output_type": "execute_result",
          "data": {
            "text/plain": [
              "<Axes: xlabel='year', ylabel='price'>"
            ]
          },
          "metadata": {},
          "execution_count": 6
        }
      ]
    },
    {
      "cell_type": "code",
      "source": [
        "df[\"year\"]"
      ],
      "metadata": {
        "id": "eqg_EDoiGa13"
      },
      "execution_count": null,
      "outputs": []
    },
    {
      "cell_type": "code",
      "source": [
        "df.loc[df[\"year\"]<2000,\"year\"]=np.nan\n",
        "df.dropna(axis=0,inplace=True)"
      ],
      "metadata": {
        "id": "Gv91OND2zo_E"
      },
      "execution_count": null,
      "outputs": []
    },
    {
      "cell_type": "code",
      "source": [
        "df[\"year\"].value_counts().plot.bar().set_title(\"Year Of Cars\")\n",
        "plt.show()"
      ],
      "metadata": {
        "id": "8GmR5qWFCo6c"
      },
      "execution_count": null,
      "outputs": []
    },
    {
      "cell_type": "code",
      "source": [
        "#detection outlier\n",
        "\n",
        "columns=list()\n",
        "for i in df.select_dtypes(\"integer\").columns:\n",
        "   columns.append(i)\n",
        "\n",
        "for col in columns:\n",
        "  df[col]=pd.to_numeric(df[col],errors=\"coerce\")\n",
        "\n",
        "  max_value=df[col].std()*3+df[col].mean()\n",
        "  min_value=df[col].mean()-df[col].std()*3\n",
        "  \n",
        "  mean=df.loc[(df[col]>min_value) & (df[col]<max_value),col].mean()\n",
        "  \n",
        "  if mean is np.nan:\n",
        "   mean = df[col].fillna(df[col].mean(),inplace=True) \n",
        "  else:\n",
        "    df.loc[(df[col]>min_value) & (df[col]<max_value),col]=mean\n",
        "  \n",
        "  df[col].astype(\"float64\")"
      ],
      "metadata": {
        "id": "izdeTLPVSeZ3"
      },
      "execution_count": null,
      "outputs": []
    },
    {
      "cell_type": "code",
      "source": [
        "sns.histplot(df[\"year\"],kde=True)"
      ],
      "metadata": {
        "id": "9U4eOMRPTfxi"
      },
      "execution_count": null,
      "outputs": []
    },
    {
      "cell_type": "code",
      "source": [
        "df[\"transmission\"]=df[\"transmission\"].astype(\"category\")\n",
        "df.info()"
      ],
      "metadata": {
        "id": "r4iRE6MSWDtV"
      },
      "execution_count": null,
      "outputs": []
    },
    {
      "cell_type": "code",
      "source": [
        "encoder=LabelEncoder()\n",
        "df[\"transmission\"]=encoder.fit_transform(df[\"transmission\"].values)\n",
        "df.head(10)"
      ],
      "metadata": {
        "id": "dmYs7b5CYRZp"
      },
      "execution_count": null,
      "outputs": []
    },
    {
      "cell_type": "code",
      "source": [
        "pivot_table=pd.pivot_table(columns=\"year\",values=[\"price\",\"mileage\",\"tax\",\"mpg\",\"engineSize\",\"transmission\"],data=df)\n",
        "pivot_table"
      ],
      "metadata": {
        "id": "wNiTlYuxYpsv"
      },
      "execution_count": null,
      "outputs": []
    },
    {
      "cell_type": "code",
      "source": [
        "x=df[\"price\"].values\n",
        "y=df.drop(\"price\",axis=1)\n",
        "X_train,X_test,Y_train,Y_test=train_test_split(x,y,random_state=10)\n",
        "len(X_train),len(Y_train),len(X_test),len(Y_test)"
      ],
      "metadata": {
        "id": "hmQicr_UZE6d"
      },
      "execution_count": null,
      "outputs": []
    },
    {
      "cell_type": "code",
      "source": [
        "Scaler=MinMaxScaler()\n",
        "Y_train=X_train.reshape(4917,2)\n",
        "Y_test=X_test.reshape(3278//2,2)\n",
        "X_train=X_train.reshape(4917,2)\n",
        "X_test=X_test.reshape(3278//2,2)\n",
        "X_train=Scaler.fit_transform(X_train)\n",
        "X_test=Scaler.fit_transform(X_test)\n",
        "\n",
        "X_train.shape,X_test.shape"
      ],
      "metadata": {
        "id": "8YQbTijwbwlo"
      },
      "execution_count": null,
      "outputs": []
    },
    {
      "cell_type": "code",
      "source": [
        "Callbacks=EarlyStopping(monitor=\"val_loss\",mode=\"min\",patience=25,verbose=1)"
      ],
      "metadata": {
        "id": "goWhBvZUfuW_"
      },
      "execution_count": null,
      "outputs": []
    },
    {
      "cell_type": "code",
      "source": [
        "Model=Sequential()\n",
        "Model.add(Dense(17,activation=\"relu\"))\n",
        "Model.add(Dropout(0.5))\n",
        "Model.add(Dense(17,activation=\"relu\"))\n",
        "Model.add(Dropout(0.5))\n",
        "Model.add(Dense(17,activation=\"relu\"))\n",
        "\n",
        "Model.add(Dense(units=2))\n",
        "\n",
        "Model.compile(optimizer=\"adam\",loss=\"mse\")\n",
        "Model.fit(x=X_train,y=Y_train,epochs=700,validation_data=(X_test,Y_test),callbacks=Callbacks)"
      ],
      "metadata": {
        "id": "wJYGk_uOZkq0"
      },
      "execution_count": null,
      "outputs": []
    },
    {
      "cell_type": "code",
      "source": [
        "lossdata=pd.DataFrame(Model.history.history)\n",
        "X_text=X_test.reshape(3278,1)\n",
        "prediction=Model.predict(X_test,verbose=0)\n",
        "\n",
        "print(f\"MSE: {mean_squared_error(Y_test,prediction)/26224}\")\n"
      ],
      "metadata": {
        "id": "3wNDFtWrgLZo"
      },
      "execution_count": null,
      "outputs": []
    },
    {
      "cell_type": "code",
      "source": [
        "NewCarSeries=df.drop(\"price\",axis=1).iloc[1]\n",
        "print(df.iloc[1])\n",
        "NewCarSeries=NewCarSeries.values\n",
        "NewCarSeries=Scaler.transform(NewCarSeries.reshape(3,2))\n",
        "price=df[\"price\"].iloc[1]\n",
        "print(f\"Car Price : {price}\")\n",
        "print(f\"Prediction: {np.max(Model.predict(NewCarSeries,verbose=0).reshape(1,6))}\")"
      ],
      "metadata": {
        "id": "A6LcWhRXpZRL"
      },
      "execution_count": null,
      "outputs": []
    },
    {
      "cell_type": "code",
      "source": [],
      "metadata": {
        "id": "a0ZE8NxGywEu"
      },
      "execution_count": null,
      "outputs": []
    },
    {
      "cell_type": "code",
      "source": [],
      "metadata": {
        "id": "AV-OZW7-zCDH"
      },
      "execution_count": null,
      "outputs": []
    }
  ]
}